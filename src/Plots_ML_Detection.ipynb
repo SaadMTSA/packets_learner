{
 "cells": [
  {
   "cell_type": "code",
   "execution_count": 80,
   "metadata": {},
   "outputs": [],
   "source": [
    "import warnings\n",
    "warnings.simplefilter('ignore')"
   ]
  },
  {
   "cell_type": "code",
   "execution_count": 92,
   "metadata": {},
   "outputs": [],
   "source": [
    "import pandas as pd\n",
    "import numpy as np\n",
    "import click\n",
    "import logging as LOGGER\n",
    "import seaborn as sns\n",
    "import matplotlib.pyplot as plt\n",
    "\n",
    "from glob import glob\n",
    "from matplotlib.backends.backend_pdf import PdfPages\n",
    "\n",
    "from src.data.data import create_directory\n",
    "\n",
    "plt.rc('text', usetex=True)\n",
    "plt.rc('font', family='serif')\n",
    "\n",
    "LOGGER.basicConfig(format=\"%(asctime)s %(levelname)s %(message)s\", level=LOGGER.INFO)\n",
    "\n",
    "def get_files(glob_):\n",
    "    res = glob(glob_)\n",
    "    if res:\n",
    "        return res\n",
    "    raise ValueError(f\"No matches for {glob_}\")\n",
    "\n",
    "def read_multiple_csvs(files):\n",
    "    dfs = []\n",
    "    for i in files:\n",
    "        dfs.append(pd.read_csv(i))\n",
    "    LOGGER.info(\"Concatenating metrics ...\")\n",
    "    return pd.concat(dfs)\n",
    "\n",
    "def remove_predict(df, type_='netflow'):\n",
    "    return df[df.model.str.contains('_0steps_') & df.model.str.contains(type_)]"
   ]
  },
  {
   "cell_type": "markdown",
   "metadata": {},
   "source": [
    "# Netflow - Detection"
   ]
  },
  {
   "cell_type": "code",
   "execution_count": 116,
   "metadata": {},
   "outputs": [
    {
     "name": "stderr",
     "output_type": "stream",
     "text": [
      "2019-11-03 01:21:15,152 INFO Concatenating metrics ...\n",
      "2019-11-03 01:21:15,163 INFO Concatenating metrics ...\n",
      "2019-11-03 01:21:15,173 INFO Concatenating metrics ...\n",
      "2019-11-03 01:21:15,184 INFO Concatenating metrics ...\n",
      "2019-11-03 01:21:15,194 INFO Concatenating metrics ...\n",
      "2019-11-03 01:21:15,200 INFO Concatenating metrics ...\n",
      "2019-11-03 01:21:15,210 INFO Concatenating metrics ...\n",
      "2019-11-03 01:21:15,221 INFO Concatenating metrics ...\n",
      "2019-11-03 01:21:15,231 INFO Concatenating metrics ...\n"
     ]
    }
   ],
   "source": [
    "ddos1 = remove_predict(read_multiple_csvs(get_files('../no_background_output/ddos_1s/*fast*/metrics.csv'))).reset_index(drop=True)\n",
    "ddos01 = remove_predict(read_multiple_csvs(get_files('../no_background_output/ddos_10s/*fast*/metrics.csv'))).reset_index(drop=True)\n",
    "ddos10 = remove_predict(read_multiple_csvs(get_files('../no_background_output/ddos_0.1s/*fast*/metrics.csv'))).reset_index(drop=True)\n",
    "\n",
    "spam1 = remove_predict(read_multiple_csvs(get_files('../no_background_output/spam_1s/*fast*/metrics.csv'))).reset_index(drop=True)\n",
    "spam01 = remove_predict(read_multiple_csvs(get_files('../no_background_output/spam_10s/*fast*/metrics.csv'))).reset_index(drop=True)\n",
    "spam10 = remove_predict(read_multiple_csvs(get_files('../no_background_output/spam_0.1s/*fast*/metrics.csv'))).reset_index(drop=True)\n",
    "\n",
    "irc1 = remove_predict(read_multiple_csvs(get_files('../no_background_output/irc_1s/*fast*/metrics.csv'))).reset_index(drop=True)\n",
    "irc01 = remove_predict(read_multiple_csvs(get_files('../no_background_output/irc_10s/*fast*/metrics.csv'))).reset_index(drop=True)\n",
    "irc10 = remove_predict(read_multiple_csvs(get_files('../no_background_output/irc_0.1s/*fast*/metrics.csv'))).reset_index(drop=True)"
   ]
  },
  {
   "cell_type": "code",
   "execution_count": 117,
   "metadata": {},
   "outputs": [
    {
     "data": {
      "text/html": [
       "<div>\n",
       "<style scoped>\n",
       "    .dataframe tbody tr th:only-of-type {\n",
       "        vertical-align: middle;\n",
       "    }\n",
       "\n",
       "    .dataframe tbody tr th {\n",
       "        vertical-align: top;\n",
       "    }\n",
       "\n",
       "    .dataframe thead th {\n",
       "        text-align: right;\n",
       "    }\n",
       "</style>\n",
       "<table border=\"1\" class=\"dataframe\">\n",
       "  <thead>\n",
       "    <tr style=\"text-align: right;\">\n",
       "      <th></th>\n",
       "      <th>DDoS 0.1 - Second</th>\n",
       "      <th>DDoS - 1 Second</th>\n",
       "      <th>DDoS - 10 Second</th>\n",
       "    </tr>\n",
       "  </thead>\n",
       "  <tbody>\n",
       "    <tr>\n",
       "      <th>Logistic Regression</th>\n",
       "      <td>0.400641</td>\n",
       "      <td>0.388240</td>\n",
       "      <td>0.636746</td>\n",
       "    </tr>\n",
       "    <tr>\n",
       "      <th>Random Forest</th>\n",
       "      <td>0.918180</td>\n",
       "      <td>0.951444</td>\n",
       "      <td>0.957782</td>\n",
       "    </tr>\n",
       "    <tr>\n",
       "      <th>Gradient Boosting</th>\n",
       "      <td>0.913055</td>\n",
       "      <td>0.989507</td>\n",
       "      <td>0.998664</td>\n",
       "    </tr>\n",
       "  </tbody>\n",
       "</table>\n",
       "</div>"
      ],
      "text/plain": [
       "                     DDoS 0.1 - Second  DDoS - 1 Second  DDoS - 10 Second\n",
       "Logistic Regression           0.400641         0.388240          0.636746\n",
       "Random Forest                 0.918180         0.951444          0.957782\n",
       "Gradient Boosting             0.913055         0.989507          0.998664"
      ]
     },
     "execution_count": 117,
     "metadata": {},
     "output_type": "execute_result"
    }
   ],
   "source": [
    "DDOS = pd.DataFrame({\"DDoS 0.1 - Second\" : ddos01.f1, \"DDoS - 1 Second\": ddos1.f1, \"DDoS - 10 Second\": ddos10.f1, })\n",
    "DDOS.index = ['Logistic Regression', 'Random Forest', 'Gradient Boosting']\n",
    "DDOS"
   ]
  },
  {
   "cell_type": "code",
   "execution_count": 118,
   "metadata": {},
   "outputs": [
    {
     "data": {
      "text/html": [
       "<div>\n",
       "<style scoped>\n",
       "    .dataframe tbody tr th:only-of-type {\n",
       "        vertical-align: middle;\n",
       "    }\n",
       "\n",
       "    .dataframe tbody tr th {\n",
       "        vertical-align: top;\n",
       "    }\n",
       "\n",
       "    .dataframe thead th {\n",
       "        text-align: right;\n",
       "    }\n",
       "</style>\n",
       "<table border=\"1\" class=\"dataframe\">\n",
       "  <thead>\n",
       "    <tr style=\"text-align: right;\">\n",
       "      <th></th>\n",
       "      <th>Spam 0.1 - Second</th>\n",
       "      <th>Spam - 1 Second</th>\n",
       "      <th>Spam - 10 Second</th>\n",
       "    </tr>\n",
       "  </thead>\n",
       "  <tbody>\n",
       "    <tr>\n",
       "      <th>Logistic Regression</th>\n",
       "      <td>0.469453</td>\n",
       "      <td>0.465331</td>\n",
       "      <td>0.697225</td>\n",
       "    </tr>\n",
       "    <tr>\n",
       "      <th>Random Forest</th>\n",
       "      <td>0.938440</td>\n",
       "      <td>0.926827</td>\n",
       "      <td>0.921818</td>\n",
       "    </tr>\n",
       "    <tr>\n",
       "      <th>Gradient Boosting</th>\n",
       "      <td>0.935124</td>\n",
       "      <td>0.988700</td>\n",
       "      <td>0.998648</td>\n",
       "    </tr>\n",
       "  </tbody>\n",
       "</table>\n",
       "</div>"
      ],
      "text/plain": [
       "                     Spam 0.1 - Second  Spam - 1 Second  Spam - 10 Second\n",
       "Logistic Regression           0.469453         0.465331          0.697225\n",
       "Random Forest                 0.938440         0.926827          0.921818\n",
       "Gradient Boosting             0.935124         0.988700          0.998648"
      ]
     },
     "execution_count": 118,
     "metadata": {},
     "output_type": "execute_result"
    }
   ],
   "source": [
    "SPAM = pd.DataFrame({\"Spam 0.1 - Second\" : spam01.f1, \"Spam - 1 Second\": spam1.f1, \"Spam - 10 Second\": spam10.f1, })\n",
    "SPAM.index = ['Logistic Regression', 'Random Forest', 'Gradient Boosting']\n",
    "SPAM"
   ]
  },
  {
   "cell_type": "code",
   "execution_count": 119,
   "metadata": {},
   "outputs": [
    {
     "data": {
      "text/html": [
       "<div>\n",
       "<style scoped>\n",
       "    .dataframe tbody tr th:only-of-type {\n",
       "        vertical-align: middle;\n",
       "    }\n",
       "\n",
       "    .dataframe tbody tr th {\n",
       "        vertical-align: top;\n",
       "    }\n",
       "\n",
       "    .dataframe thead th {\n",
       "        text-align: right;\n",
       "    }\n",
       "</style>\n",
       "<table border=\"1\" class=\"dataframe\">\n",
       "  <thead>\n",
       "    <tr style=\"text-align: right;\">\n",
       "      <th></th>\n",
       "      <th>IRC 0.1 - Second</th>\n",
       "      <th>IRC - 1 Second</th>\n",
       "      <th>IRC - 10 Second</th>\n",
       "    </tr>\n",
       "  </thead>\n",
       "  <tbody>\n",
       "    <tr>\n",
       "      <th>Logistic Regression</th>\n",
       "      <td>0.486168</td>\n",
       "      <td>0.518874</td>\n",
       "      <td>0.677360</td>\n",
       "    </tr>\n",
       "    <tr>\n",
       "      <th>Random Forest</th>\n",
       "      <td>0.937615</td>\n",
       "      <td>0.926610</td>\n",
       "      <td>0.941098</td>\n",
       "    </tr>\n",
       "    <tr>\n",
       "      <th>Gradient Boosting</th>\n",
       "      <td>0.953216</td>\n",
       "      <td>0.992189</td>\n",
       "      <td>0.999376</td>\n",
       "    </tr>\n",
       "  </tbody>\n",
       "</table>\n",
       "</div>"
      ],
      "text/plain": [
       "                     IRC 0.1 - Second  IRC - 1 Second  IRC - 10 Second\n",
       "Logistic Regression          0.486168        0.518874         0.677360\n",
       "Random Forest                0.937615        0.926610         0.941098\n",
       "Gradient Boosting            0.953216        0.992189         0.999376"
      ]
     },
     "execution_count": 119,
     "metadata": {},
     "output_type": "execute_result"
    }
   ],
   "source": [
    "IRC = pd.DataFrame({\"IRC 0.1 - Second\" : irc01.f1, \"IRC - 1 Second\": irc1.f1, \"IRC - 10 Second\": irc10.f1, })\n",
    "IRC.index = ['Logistic Regression', 'Random Forest', 'Gradient Boosting']\n",
    "IRC"
   ]
  },
  {
   "cell_type": "code",
   "execution_count": 120,
   "metadata": {},
   "outputs": [
    {
     "name": "stdout",
     "output_type": "stream",
     "text": [
      "\\begin{tabular}{lrrr}\n",
      "\\toprule\n",
      "{} &  DDoS 0.1 - Second &  DDoS - 1 Second &  DDoS - 10 Second \\\\\n",
      "\\midrule\n",
      "Logistic Regression &              0.401 &            0.388 &             0.637 \\\\\n",
      "Random Forest       &              0.918 &            0.951 &             0.958 \\\\\n",
      "Gradient Boosting   &              0.913 &            0.990 &             0.999 \\\\\n",
      "\\bottomrule\n",
      "\\end{tabular}\n",
      "\n"
     ]
    }
   ],
   "source": [
    "print(DDOS.to_latex(float_format='%1.3f'))"
   ]
  },
  {
   "cell_type": "code",
   "execution_count": 121,
   "metadata": {},
   "outputs": [
    {
     "name": "stdout",
     "output_type": "stream",
     "text": [
      "\\begin{tabular}{lrrr}\n",
      "\\toprule\n",
      "{} &  Spam 0.1 - Second &  Spam - 1 Second &  Spam - 10 Second \\\\\n",
      "\\midrule\n",
      "Logistic Regression &              0.469 &            0.465 &             0.697 \\\\\n",
      "Random Forest       &              0.938 &            0.927 &             0.922 \\\\\n",
      "Gradient Boosting   &              0.935 &            0.989 &             0.999 \\\\\n",
      "\\bottomrule\n",
      "\\end{tabular}\n",
      "\n"
     ]
    }
   ],
   "source": [
    "print(SPAM.to_latex(float_format='%1.3f'))"
   ]
  },
  {
   "cell_type": "code",
   "execution_count": 122,
   "metadata": {},
   "outputs": [
    {
     "name": "stdout",
     "output_type": "stream",
     "text": [
      "\\begin{tabular}{lrrr}\n",
      "\\toprule\n",
      "{} &  IRC 0.1 - Second &  IRC - 1 Second &  IRC - 10 Second \\\\\n",
      "\\midrule\n",
      "Logistic Regression &             0.486 &           0.519 &            0.677 \\\\\n",
      "Random Forest       &             0.938 &           0.927 &            0.941 \\\\\n",
      "Gradient Boosting   &             0.953 &           0.992 &            0.999 \\\\\n",
      "\\bottomrule\n",
      "\\end{tabular}\n",
      "\n"
     ]
    }
   ],
   "source": [
    "print(IRC.to_latex(float_format='%1.3f'))"
   ]
  },
  {
   "cell_type": "markdown",
   "metadata": {},
   "source": [
    "# Pcap - Detection"
   ]
  },
  {
   "cell_type": "code",
   "execution_count": 110,
   "metadata": {},
   "outputs": [
    {
     "name": "stderr",
     "output_type": "stream",
     "text": [
      "2019-11-03 01:15:40,830 INFO Concatenating metrics ...\n",
      "2019-11-03 01:15:40,989 INFO Concatenating metrics ...\n",
      "2019-11-03 01:15:41,147 INFO Concatenating metrics ...\n",
      "2019-11-03 01:15:41,305 INFO Concatenating metrics ...\n",
      "2019-11-03 01:15:41,463 INFO Concatenating metrics ...\n",
      "2019-11-03 01:15:41,620 INFO Concatenating metrics ...\n",
      "2019-11-03 01:15:41,777 INFO Concatenating metrics ...\n",
      "2019-11-03 01:15:41,936 INFO Concatenating metrics ...\n"
     ]
    }
   ],
   "source": [
    "ddos1 = remove_predict(read_multiple_csvs(get_files('../no_background_output/ddos_1s/pcap*/metrics.csv')), 'pcap').reset_index(drop=True)\n",
    "ddos10 = remove_predict(read_multiple_csvs(get_files('../no_background_output/ddos_10s/pcap*/metrics.csv')), 'pcap').reset_index(drop=True)\n",
    "ddos01 = remove_predict(read_multiple_csvs(get_files('../no_background_output/ddos_0.1s/pcap*/metrics.csv')), 'pcap').reset_index(drop=True)\n",
    "\n",
    "spam1 = remove_predict(read_multiple_csvs(get_files('../no_background_output/spam_1s/pcap*/metrics.csv')), 'pcap').reset_index(drop=True)\n",
    "spam10 = remove_predict(read_multiple_csvs(get_files('../no_background_output/spam_10s/pcap*/metrics.csv')), 'pcap').reset_index(drop=True)\n",
    "# spam01 = remove_predict(read_multiple_csvs(get_files('../no_background_output/spam_0.1s/pcap*/metrics.csv')), 'pcap').reset_index(drop=True)\n",
    "\n",
    "irc1 = remove_predict(read_multiple_csvs(get_files('../no_background_output/irc_1s/pcap*/metrics.csv')), 'pcap').reset_index(drop=True)\n",
    "irc10 = remove_predict(read_multiple_csvs(get_files('../no_background_output/irc_10s/pcap*/metrics.csv')), 'pcap').reset_index(drop=True)\n",
    "irc01 = remove_predict(read_multiple_csvs(get_files('../no_background_output/irc_0.1s/pcap*/metrics.csv')), 'pcap').reset_index(drop=True)"
   ]
  },
  {
   "cell_type": "code",
   "execution_count": 111,
   "metadata": {},
   "outputs": [
    {
     "data": {
      "text/html": [
       "<div>\n",
       "<style scoped>\n",
       "    .dataframe tbody tr th:only-of-type {\n",
       "        vertical-align: middle;\n",
       "    }\n",
       "\n",
       "    .dataframe tbody tr th {\n",
       "        vertical-align: top;\n",
       "    }\n",
       "\n",
       "    .dataframe thead th {\n",
       "        text-align: right;\n",
       "    }\n",
       "</style>\n",
       "<table border=\"1\" class=\"dataframe\">\n",
       "  <thead>\n",
       "    <tr style=\"text-align: right;\">\n",
       "      <th></th>\n",
       "      <th>DDoS - 0.1 Second</th>\n",
       "      <th>DDoS - 1 Second</th>\n",
       "      <th>DDoS - 10 Second</th>\n",
       "    </tr>\n",
       "  </thead>\n",
       "  <tbody>\n",
       "    <tr>\n",
       "      <th>Logistic Regression</th>\n",
       "      <td>0.989312</td>\n",
       "      <td>0.929004</td>\n",
       "      <td>0.873234</td>\n",
       "    </tr>\n",
       "    <tr>\n",
       "      <th>Random Forest</th>\n",
       "      <td>0.994692</td>\n",
       "      <td>0.925323</td>\n",
       "      <td>0.843595</td>\n",
       "    </tr>\n",
       "    <tr>\n",
       "      <th>Gradient Boosting</th>\n",
       "      <td>0.994763</td>\n",
       "      <td>0.970657</td>\n",
       "      <td>0.996625</td>\n",
       "    </tr>\n",
       "  </tbody>\n",
       "</table>\n",
       "</div>"
      ],
      "text/plain": [
       "                     DDoS - 0.1 Second  DDoS - 1 Second  DDoS - 10 Second\n",
       "Logistic Regression           0.989312         0.929004          0.873234\n",
       "Random Forest                 0.994692         0.925323          0.843595\n",
       "Gradient Boosting             0.994763         0.970657          0.996625"
      ]
     },
     "execution_count": 111,
     "metadata": {},
     "output_type": "execute_result"
    }
   ],
   "source": [
    "DDOS = pd.DataFrame({\"DDoS - 0.1 Second\" : ddos01.f1, \"DDoS - 1 Second\": ddos1.f1, \"DDoS - 10 Second\": ddos10.f1, })\n",
    "DDOS.index = ['Logistic Regression', 'Random Forest', 'Gradient Boosting']\n",
    "DDOS"
   ]
  },
  {
   "cell_type": "code",
   "execution_count": 105,
   "metadata": {},
   "outputs": [
    {
     "data": {
      "text/html": [
       "<div>\n",
       "<style scoped>\n",
       "    .dataframe tbody tr th:only-of-type {\n",
       "        vertical-align: middle;\n",
       "    }\n",
       "\n",
       "    .dataframe tbody tr th {\n",
       "        vertical-align: top;\n",
       "    }\n",
       "\n",
       "    .dataframe thead th {\n",
       "        text-align: right;\n",
       "    }\n",
       "</style>\n",
       "<table border=\"1\" class=\"dataframe\">\n",
       "  <thead>\n",
       "    <tr style=\"text-align: right;\">\n",
       "      <th></th>\n",
       "      <th>Spam - 0.1 Second</th>\n",
       "      <th>Spam - 1 Second</th>\n",
       "      <th>Spam - 10 Second</th>\n",
       "    </tr>\n",
       "  </thead>\n",
       "  <tbody>\n",
       "    <tr>\n",
       "      <th>Logistic Regression</th>\n",
       "      <td>0.848238</td>\n",
       "      <td>0.843769</td>\n",
       "      <td>0.848238</td>\n",
       "    </tr>\n",
       "    <tr>\n",
       "      <th>Random Forest</th>\n",
       "      <td>0.865508</td>\n",
       "      <td>0.867312</td>\n",
       "      <td>0.865508</td>\n",
       "    </tr>\n",
       "    <tr>\n",
       "      <th>Gradient Boosting</th>\n",
       "      <td>0.992926</td>\n",
       "      <td>0.995193</td>\n",
       "      <td>0.992926</td>\n",
       "    </tr>\n",
       "  </tbody>\n",
       "</table>\n",
       "</div>"
      ],
      "text/plain": [
       "                     Spam - 0.1 Second  Spam - 1 Second  Spam - 10 Second\n",
       "Logistic Regression           0.848238         0.843769          0.848238\n",
       "Random Forest                 0.865508         0.867312          0.865508\n",
       "Gradient Boosting             0.992926         0.995193          0.992926"
      ]
     },
     "execution_count": 105,
     "metadata": {},
     "output_type": "execute_result"
    }
   ],
   "source": [
    "SPAM = pd.DataFrame({\"Spam - 0.1 Second\" : spam01.f1, \"Spam - 1 Second\": spam1.f1, \"Spam - 10 Second\": spam10.f1, })\n",
    "SPAM.index = ['Logistic Regression', 'Random Forest', 'Gradient Boosting']\n",
    "SPAM"
   ]
  },
  {
   "cell_type": "code",
   "execution_count": 106,
   "metadata": {},
   "outputs": [
    {
     "data": {
      "text/html": [
       "<div>\n",
       "<style scoped>\n",
       "    .dataframe tbody tr th:only-of-type {\n",
       "        vertical-align: middle;\n",
       "    }\n",
       "\n",
       "    .dataframe tbody tr th {\n",
       "        vertical-align: top;\n",
       "    }\n",
       "\n",
       "    .dataframe thead th {\n",
       "        text-align: right;\n",
       "    }\n",
       "</style>\n",
       "<table border=\"1\" class=\"dataframe\">\n",
       "  <thead>\n",
       "    <tr style=\"text-align: right;\">\n",
       "      <th></th>\n",
       "      <th>IRC - 0.1 Second</th>\n",
       "      <th>IRC - 1 Second</th>\n",
       "      <th>IRC - 10 Second</th>\n",
       "    </tr>\n",
       "  </thead>\n",
       "  <tbody>\n",
       "    <tr>\n",
       "      <th>Logistic Regression</th>\n",
       "      <td>0.897895</td>\n",
       "      <td>0.847097</td>\n",
       "      <td>0.900524</td>\n",
       "    </tr>\n",
       "    <tr>\n",
       "      <th>Random Forest</th>\n",
       "      <td>0.938205</td>\n",
       "      <td>0.886144</td>\n",
       "      <td>0.910534</td>\n",
       "    </tr>\n",
       "    <tr>\n",
       "      <th>Gradient Boosting</th>\n",
       "      <td>0.995193</td>\n",
       "      <td>1.000000</td>\n",
       "      <td>0.945013</td>\n",
       "    </tr>\n",
       "  </tbody>\n",
       "</table>\n",
       "</div>"
      ],
      "text/plain": [
       "                     IRC - 0.1 Second  IRC - 1 Second  IRC - 10 Second\n",
       "Logistic Regression          0.897895        0.847097         0.900524\n",
       "Random Forest                0.938205        0.886144         0.910534\n",
       "Gradient Boosting            0.995193        1.000000         0.945013"
      ]
     },
     "execution_count": 106,
     "metadata": {},
     "output_type": "execute_result"
    }
   ],
   "source": [
    "IRC = pd.DataFrame({\"IRC - 0.1 Second\" : irc01.f1, \"IRC - 1 Second\": irc1.f1, \"IRC - 10 Second\": irc10.f1, })\n",
    "IRC.index = ['Logistic Regression', 'Random Forest', 'Gradient Boosting']\n",
    "IRC"
   ]
  },
  {
   "cell_type": "code",
   "execution_count": 113,
   "metadata": {},
   "outputs": [
    {
     "name": "stdout",
     "output_type": "stream",
     "text": [
      "\\begin{tabular}{lrrr}\n",
      "\\toprule\n",
      "{} &  DDoS - 0.1 Second &  DDoS - 1 Second &  DDoS - 10 Second \\\\\n",
      "\\midrule\n",
      "Logistic Regression &              0.989 &            0.929 &             0.873 \\\\\n",
      "Random Forest       &              0.995 &            0.925 &             0.844 \\\\\n",
      "Gradient Boosting   &              0.995 &            0.971 &             0.997 \\\\\n",
      "\\bottomrule\n",
      "\\end{tabular}\n",
      "\n"
     ]
    }
   ],
   "source": [
    "print(DDOS.to_latex(float_format='%1.3f'))"
   ]
  },
  {
   "cell_type": "code",
   "execution_count": 114,
   "metadata": {},
   "outputs": [
    {
     "name": "stdout",
     "output_type": "stream",
     "text": [
      "\\begin{tabular}{lrrr}\n",
      "\\toprule\n",
      "{} &  Spam - 0.1 Second &  Spam - 1 Second &  Spam - 10 Second \\\\\n",
      "\\midrule\n",
      "Logistic Regression &              0.848 &            0.844 &             0.848 \\\\\n",
      "Random Forest       &              0.866 &            0.867 &             0.866 \\\\\n",
      "Gradient Boosting   &              0.993 &            0.995 &             0.993 \\\\\n",
      "\\bottomrule\n",
      "\\end{tabular}\n",
      "\n"
     ]
    }
   ],
   "source": [
    "print(SPAM.to_latex(float_format='%1.3f'))"
   ]
  },
  {
   "cell_type": "code",
   "execution_count": 115,
   "metadata": {},
   "outputs": [
    {
     "name": "stdout",
     "output_type": "stream",
     "text": [
      "\\begin{tabular}{lrrr}\n",
      "\\toprule\n",
      "{} &  IRC - 0.1 Second &  IRC - 1 Second &  IRC - 10 Second \\\\\n",
      "\\midrule\n",
      "Logistic Regression &             0.898 &           0.847 &            0.901 \\\\\n",
      "Random Forest       &             0.938 &           0.886 &            0.911 \\\\\n",
      "Gradient Boosting   &             0.995 &           1.000 &            0.945 \\\\\n",
      "\\bottomrule\n",
      "\\end{tabular}\n",
      "\n"
     ]
    }
   ],
   "source": [
    "print(IRC.to_latex(float_format='%1.3f'))"
   ]
  }
 ],
 "metadata": {
  "kernelspec": {
   "display_name": "Python 3.5 (env @ saed)",
   "language": "python",
   "name": "env"
  },
  "language_info": {
   "codemirror_mode": {
    "name": "ipython",
    "version": 3
   },
   "file_extension": ".py",
   "mimetype": "text/x-python",
   "name": "python",
   "nbconvert_exporter": "python",
   "pygments_lexer": "ipython3",
   "version": "3.6.7"
  }
 },
 "nbformat": 4,
 "nbformat_minor": 2
}
